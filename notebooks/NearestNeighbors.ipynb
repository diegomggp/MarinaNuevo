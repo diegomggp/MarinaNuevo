{
 "cells": [
  {
   "cell_type": "code",
   "execution_count": 9,
   "metadata": {},
   "outputs": [],
   "source": [
    "import pandas as pd\n",
    "import seaborn as sns\n",
    "import matplotlib.pyplot as plt \n",
    "import sklearn.metrics as metrics\n",
    "from sklearn.model_selection import train_test_split\n",
    "from sklearn.preprocessing import StandardScaler, MinMaxScaler\n",
    "from sklearn.neighbors import NearestNeighbors\n",
    "pd.set_option('display.max_columns', None)"
   ]
  },
  {
   "cell_type": "code",
   "execution_count": 14,
   "metadata": {},
   "outputs": [],
   "source": [
    "df_knn = pd.read_csv('../static/playlist_example.csv')"
   ]
  },
  {
   "cell_type": "code",
   "execution_count": 15,
   "metadata": {},
   "outputs": [],
   "source": [
    "df_knn['ts'] = df_knn['ts'].str.split('.').str[0]\n",
    "df_knn['ts'] = pd.to_datetime(df_knn['ts'])     "
   ]
  },
  {
   "cell_type": "code",
   "execution_count": 16,
   "metadata": {},
   "outputs": [
    {
     "name": "stdout",
     "output_type": "stream",
     "text": [
      "<class 'pandas.core.frame.DataFrame'>\n",
      "RangeIndex: 596 entries, 0 to 595\n",
      "Data columns (total 18 columns):\n",
      " #   Column            Non-Null Count  Dtype         \n",
      "---  ------            --------------  -----         \n",
      " 0   danceability      596 non-null    float64       \n",
      " 1   energy            596 non-null    float64       \n",
      " 2   key               596 non-null    float64       \n",
      " 3   loudness          596 non-null    float64       \n",
      " 4   mode              596 non-null    float64       \n",
      " 5   speechiness       596 non-null    float64       \n",
      " 6   acousticness      596 non-null    float64       \n",
      " 7   instrumentalness  596 non-null    float64       \n",
      " 8   liveness          596 non-null    float64       \n",
      " 9   valence           596 non-null    float64       \n",
      " 10  tempo             596 non-null    float64       \n",
      " 11  id                596 non-null    object        \n",
      " 12  duration_ms       596 non-null    float64       \n",
      " 13  time_signature    596 non-null    float64       \n",
      " 14  ts                596 non-null    datetime64[ns]\n",
      " 15  tick              596 non-null    int64         \n",
      " 16  error.status      0 non-null      float64       \n",
      " 17  error.message     0 non-null      float64       \n",
      "dtypes: datetime64[ns](1), float64(15), int64(1), object(1)\n",
      "memory usage: 83.9+ KB\n"
     ]
    }
   ],
   "source": [
    "df_knn.info()"
   ]
  },
  {
   "cell_type": "code",
   "execution_count": 17,
   "metadata": {},
   "outputs": [],
   "source": [
    "df_knn.drop(columns=['tick','ts','error.status','error.message','error.status'], inplace=True)"
   ]
  },
  {
   "cell_type": "code",
   "execution_count": 19,
   "metadata": {},
   "outputs": [],
   "source": [
    "X = df_knn.drop(columns='id')\n",
    "X_train = X.iloc[0:590]\n",
    "X_test = X.iloc[590:]"
   ]
  },
  {
   "cell_type": "code",
   "execution_count": 21,
   "metadata": {},
   "outputs": [],
   "source": [
    "scl = StandardScaler()\n",
    "scl.fit(X_train)\n",
    "X_train_scl = scl.transform(X_train)\n",
    "X_train_scl = pd.DataFrame(X_train_scl, columns=X_train.columns)\n",
    "X_test_scl = scl.transform(X_test)\n",
    "X_test_scl = pd.DataFrame(X_test_scl, columns=X_train.columns)"
   ]
  },
  {
   "cell_type": "code",
   "execution_count": 22,
   "metadata": {},
   "outputs": [
    {
     "name": "stdout",
     "output_type": "stream",
     "text": [
      "[   danceability    energy       key  loudness      mode  speechiness  \\\n",
      "5     -0.729519  0.913377 -1.470202  1.338849  0.924849     0.295733   \n",
      "\n",
      "   acousticness  instrumentalness  liveness   valence     tempo  duration_ms  \\\n",
      "5     -0.680419         -0.324573 -0.717318 -0.168472  0.243618     0.322891   \n",
      "\n",
      "   time_signature  \n",
      "5        0.131306  ,      danceability    energy      key  loudness      mode  speechiness  \\\n",
      "589     -1.723332  0.816403  1.01129 -0.379744 -1.081257    -0.048978   \n",
      "\n",
      "     acousticness  instrumentalness  liveness   valence    tempo  duration_ms  \\\n",
      "589      0.145425         -0.085407 -0.511089 -0.667863  1.22773     1.443755   \n",
      "\n",
      "     time_signature  \n",
      "589        0.131306  ,      danceability    energy      key  loudness      mode  speechiness  \\\n",
      "395      0.739279 -0.880645  1.01129  -0.94083  0.924849    -0.666904   \n",
      "\n",
      "     acousticness  instrumentalness  liveness   valence     tempo  \\\n",
      "395     -0.392604          5.846765  0.660418 -0.276449 -0.518077   \n",
      "\n",
      "     duration_ms  time_signature  \n",
      "395     0.549519        0.131306  ,     danceability    energy       key  loudness      mode  speechiness  \\\n",
      "16     -0.780671  0.837183  1.562732  1.035318 -1.081257    -0.539233   \n",
      "\n",
      "    acousticness  instrumentalness  liveness   valence     tempo  duration_ms  \\\n",
      "16     -0.425999         -0.324562 -0.769145  0.717835 -0.700297    -0.040172   \n",
      "\n",
      "    time_signature  \n",
      "16        0.131306  ,      danceability    energy       key  loudness      mode  speechiness  \\\n",
      "260     -0.481066  0.435433 -1.470202 -0.581105 -1.081257    -0.174095   \n",
      "\n",
      "     acousticness  instrumentalness  liveness   valence     tempo  \\\n",
      "260     -0.666071          4.401804  0.476864 -1.450693  0.023734   \n",
      "\n",
      "     duration_ms  time_signature  \n",
      "260    -1.855058        0.131306  ,      danceability    energy       key  loudness      mode  speechiness  \\\n",
      "531      0.841583  0.871817 -1.470202  0.604499 -1.081257    -0.268572   \n",
      "\n",
      "     acousticness  instrumentalness  liveness  valence     tempo  duration_ms  \\\n",
      "531      0.980298          -0.32455 -0.106191  0.32642 -1.042161    -0.023588   \n",
      "\n",
      "     time_signature  \n",
      "531        0.131306  ]\n"
     ]
    }
   ],
   "source": [
    "# Train data\n",
    "X_unknown = X_test_scl  \n",
    "# Nearest neighbors\n",
    "k = 1  # Neighbors number\n",
    "model = NearestNeighbors(n_neighbors=k)\n",
    "# Model train\n",
    "model.fit(X_train_scl)\n",
    "# Find nearest neighbors\n",
    "distances, indices = model.kneighbors(X_unknown)\n",
    "# similar items\n",
    "similar_items = [X_train_scl.loc[idx] for idx in indices]\n",
    "print(similar_items)\n"
   ]
  }
 ],
 "metadata": {
  "kernelspec": {
   "display_name": "base",
   "language": "python",
   "name": "python3"
  },
  "language_info": {
   "codemirror_mode": {
    "name": "ipython",
    "version": 3
   },
   "file_extension": ".py",
   "mimetype": "text/x-python",
   "name": "python",
   "nbconvert_exporter": "python",
   "pygments_lexer": "ipython3",
   "version": "3.10.9"
  },
  "orig_nbformat": 4
 },
 "nbformat": 4,
 "nbformat_minor": 2
}
