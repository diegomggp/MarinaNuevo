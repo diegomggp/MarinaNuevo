{
 "cells": [
  {
   "cell_type": "code",
   "execution_count": 1,
   "metadata": {},
   "outputs": [],
   "source": [
    "import requests\n",
    "import pandas as pd\n",
    "import spotipy\n",
    "import datetime as dt\n",
    "from spotipy.oauth2 import SpotifyOAuth"
   ]
  },
  {
   "cell_type": "markdown",
   "metadata": {},
   "source": [
    "# Manual Spotify info download"
   ]
  },
  {
   "cell_type": "code",
   "execution_count": 2,
   "metadata": {},
   "outputs": [],
   "source": [
    "# App credentials from Spotify Dashboard\n",
    "client_id = ''\n",
    "client_secret = ''\n",
    "\n",
    "# Get access token\n",
    "def get_access_token():\n",
    "    token_url = 'https://accounts.spotify.com/api/token'\n",
    "    auth = (client_id, client_secret)\n",
    "    data = {'grant_type': 'client_credentials'}\n",
    "    response = requests.post(token_url, data=data, auth=auth)\n",
    "    return response.json()['access_token']\n",
    "\n",
    "\n",
    "# Request song metrics to Spotify API\n",
    "def get_song_info(song_id):\n",
    "    access_token = get_access_token()\n",
    "    headers = {'Authorization': f'Bearer {access_token}'}\n",
    "    url = f'https://api.spotify.com/v1/audio-features/{song_id}'\n",
    "    response = requests.get(url, headers=headers)\n",
    "    return response.json()\n",
    "\n",
    "\n",
    "# Request playlist metrics to Spotify API\n",
    "def get_playlist_info(playlist_id):\n",
    "    access_token = get_access_token()\n",
    "    headers = {'Authorization': f'Bearer {access_token}'}\n",
    "    url = f'https://api.spotify.com/v1/playlists/{playlist_id}/tracks'\n",
    "    response = requests.get(url, headers=headers)\n",
    "    return response.json()\n",
    "\n"
   ]
  },
  {
   "cell_type": "markdown",
   "metadata": {},
   "source": [
    "## Song info"
   ]
  },
  {
   "cell_type": "code",
   "execution_count": 3,
   "metadata": {},
   "outputs": [
    {
     "data": {
      "text/plain": [
       "\"\\n{'danceability': 0.696,\\n 'energy': 0.905,\\n 'key': 2,\\n 'loudness': -2.743,\\n 'mode': 1,\\n 'speechiness': 0.103,\\n 'acousticness': 0.011,\\n 'instrumentalness': 0.000905,\\n 'liveness': 0.302,\\n 'valence': 0.625,\\n 'tempo': 114.944,\\n 'type': 'audio_features',\\n 'id': '11dFghVXANMlKmJXsNCbNl',\\n 'uri': 'spotify:track:11dFghVXANMlKmJXsNCbNl',\\n 'track_href': 'https://api.spotify.com/v1/tracks/11dFghVXANMlKmJXsNCbNl',\\n 'analysis_url': 'https://api.spotify.com/v1/audio-analysis/11dFghVXANMlKmJXsNCbNl',\\n 'duration_ms': 207960,\\n 'time_signature': 4}\\n\""
      ]
     },
     "execution_count": 3,
     "metadata": {},
     "output_type": "execute_result"
    }
   ],
   "source": [
    "song_info = get_song_info('11dFghVXANMlKmJXsNCbNl')\n",
    "song_info\n",
    "'''\n",
    "{'danceability': 0.696,\n",
    " 'energy': 0.905,\n",
    " 'key': 2,\n",
    " 'loudness': -2.743,\n",
    " 'mode': 1,\n",
    " 'speechiness': 0.103,\n",
    " 'acousticness': 0.011,\n",
    " 'instrumentalness': 0.000905,\n",
    " 'liveness': 0.302,\n",
    " 'valence': 0.625,\n",
    " 'tempo': 114.944,\n",
    " 'type': 'audio_features',\n",
    " 'id': '11dFghVXANMlKmJXsNCbNl',\n",
    " 'uri': 'spotify:track:11dFghVXANMlKmJXsNCbNl',\n",
    " 'track_href': 'https://api.spotify.com/v1/tracks/11dFghVXANMlKmJXsNCbNl',\n",
    " 'analysis_url': 'https://api.spotify.com/v1/audio-analysis/11dFghVXANMlKmJXsNCbNl',\n",
    " 'duration_ms': 207960,\n",
    " 'time_signature': 4}\n",
    "'''"
   ]
  },
  {
   "cell_type": "markdown",
   "metadata": {},
   "source": [
    "## Playlist info"
   ]
  },
  {
   "cell_type": "code",
   "execution_count": 4,
   "metadata": {},
   "outputs": [
    {
     "data": {
      "text/plain": [
       "\"\\n{'href': 'https://api.spotify.com/v1/playlists/7ohNYaORJjCE5Q3EVPDbOv/tracks?offset=0&limit=100',\\n 'items': [{'added_at': '2015-05-15T21:48:51Z',\\n   'added_by': {'external_urls': {'spotify': 'https://open.spotify.com/user/marcosmarinalopez'},\\n    'href': 'https://api.spotify.com/v1/users/marcosmarinalopez',\\n    'id': 'marcosmarinalopez',\\n    'type': 'user',\\n    'uri': 'spotify:user:marcosmarinalopez'},\\n   'is_local': False,\\n   'primary_color': None,\\n   'track': {'album': {'album_type': 'compilation',\\n     'artists': [{'external_urls': {'spotify': 'https://open.spotify.com/artist/0LyfQWJT6nXafLPZqxe9Of'},\\n       'href': 'https://api.spotify.com/v1/artists/0LyfQWJT6nXafLPZqxe9Of',\\n       'id': '0LyfQWJT6nXafLPZqxe9Of',\\n       'name': 'Various Artists',\\n       'type': 'artist',\\n       'uri': 'spotify:artist:0LyfQWJT6nXafLPZqxe9Of'}],\\n     'available_markets': [],\\n     'external_urls': {'spotify': 'https://open.spotify.com/album/5w025o7Bez9DkriD0wLLg5'},\\n     'href': 'https://api.spotify.com/v1/albums/5w025o7Bez9DkriD0wLLg5',\\n     'id': '5w025o7Bez9DkriD0wLLg5',\\n     'images': [{'height': 640,\\n       'url': 'https://i.scdn.co/image/ab67616d0000b273e4652ec09ce7b4c3132d9780',\\n       'width': 640},\\n      {'height': 300,\\n       'url': 'https://i.scdn.co/image/ab67616d00001e02e4652ec09ce7b4c3132d9780',\\n...\\n...\\n...\\n...\\n 'limit': 100,\\n 'next': 'https://api.spotify.com/v1/playlists/7ohNYaORJjCE5Q3EVPDbOv/tracks?offset=100&limit=100',\\n 'offset': 0,\\n 'previous': None,\\n 'total': 575}\\n\""
      ]
     },
     "execution_count": 4,
     "metadata": {},
     "output_type": "execute_result"
    }
   ],
   "source": [
    "playlist_info = get_playlist_info('7ohNYaORJjCE5Q3EVPDbOv')\n",
    "playlist_info\n",
    "\n",
    "'''\n",
    "{'href': 'https://api.spotify.com/v1/playlists/7ohNYaORJjCE5Q3EVPDbOv/tracks?offset=0&limit=100',\n",
    " 'items': [{'added_at': '2015-05-15T21:48:51Z',\n",
    "   'added_by': {'external_urls': {'spotify': 'https://open.spotify.com/user/marcosmarinalopez'},\n",
    "    'href': 'https://api.spotify.com/v1/users/marcosmarinalopez',\n",
    "    'id': 'marcosmarinalopez',\n",
    "    'type': 'user',\n",
    "    'uri': 'spotify:user:marcosmarinalopez'},\n",
    "   'is_local': False,\n",
    "   'primary_color': None,\n",
    "   'track': {'album': {'album_type': 'compilation',\n",
    "     'artists': [{'external_urls': {'spotify': 'https://open.spotify.com/artist/0LyfQWJT6nXafLPZqxe9Of'},\n",
    "       'href': 'https://api.spotify.com/v1/artists/0LyfQWJT6nXafLPZqxe9Of',\n",
    "       'id': '0LyfQWJT6nXafLPZqxe9Of',\n",
    "       'name': 'Various Artists',\n",
    "       'type': 'artist',\n",
    "       'uri': 'spotify:artist:0LyfQWJT6nXafLPZqxe9Of'}],\n",
    "     'available_markets': [],\n",
    "     'external_urls': {'spotify': 'https://open.spotify.com/album/5w025o7Bez9DkriD0wLLg5'},\n",
    "     'href': 'https://api.spotify.com/v1/albums/5w025o7Bez9DkriD0wLLg5',\n",
    "     'id': '5w025o7Bez9DkriD0wLLg5',\n",
    "     'images': [{'height': 640,\n",
    "       'url': 'https://i.scdn.co/image/ab67616d0000b273e4652ec09ce7b4c3132d9780',\n",
    "       'width': 640},\n",
    "      {'height': 300,\n",
    "       'url': 'https://i.scdn.co/image/ab67616d00001e02e4652ec09ce7b4c3132d9780',\n",
    "...\n",
    "...\n",
    "...\n",
    "...\n",
    " 'limit': 100,\n",
    " 'next': 'https://api.spotify.com/v1/playlists/7ohNYaORJjCE5Q3EVPDbOv/tracks?offset=100&limit=100',\n",
    " 'offset': 0,\n",
    " 'previous': None,\n",
    " 'total': 575}\n",
    "'''"
   ]
  },
  {
   "cell_type": "markdown",
   "metadata": {},
   "source": [
    "# Info download with Spotipy"
   ]
  },
  {
   "cell_type": "code",
   "execution_count": null,
   "metadata": {},
   "outputs": [],
   "source": [
    "# since what date to search\n",
    "after_in_seconds = 7 *24 *60 * 60 * 100\n",
    "# limit songs per page (1-50)\n",
    "page_limit = 10\n",
    "# current timestamp\n",
    "timestamp_unix = int(dt.datetime.now().timestamp())\n",
    "\n",
    "# Personal app credentials\n",
    "client_id = ''\n",
    "client_secret = ''\n",
    "redirect_uri = ''\n",
    "\n",
    "# Auth\n",
    "sp = spotipy.Spotify(auth_manager=SpotifyOAuth(client_id=client_id,\n",
    "                                               client_secret=client_secret,\n",
    "                                               redirect_uri=redirect_uri,\n",
    "                                               scope='user-read-recently-played'))\n",
    "\n",
    "# dataframe for storing song info\n",
    "df_last_songs = pd.DataFrame()\n",
    "\n",
    "# Get the last user played songs\n",
    "last_played_tracks = sp.current_user_recently_played(limit= page_limit, after=timestamp_unix - after_in_seconds)\n",
    "\n",
    "# loop for each result page\n",
    "while last_played_tracks is not None and len(last_played_tracks) > 0:\n",
    "    \n",
    "    # read and save into dataframe\n",
    "    for track in last_played_tracks['items']:\n",
    "        \n",
    "        # read values\n",
    "        name = track['track']['name']\n",
    "        id = track['track']['id']\n",
    "        played_at= dt.datetime.strptime(track['played_at'], '%Y-%m-%dT%H:%M:%S.%fZ')\n",
    "        # build the row\n",
    "        row = {'name':name, 'id':id, 'played_at':played_at}        \n",
    "        # insert into dataframe\n",
    "        df_last_songs.loc[len(df_last_songs)] = row\n",
    "        \n",
    "        #print(track['track']['name'], '-', track['track']['artists'][0]['name'], ' #### ID: ', track['track']['id'], ' #### Played at: ', track['played_at'])\n",
    "    \n",
    "    # request aditional pages\n",
    "    last_played_tracks = sp.next(last_played_tracks)\n",
    "\n",
    "\n",
    "\n",
    "# format timestamp        \n",
    "df_last_songs['played_at'] = pd.to_datetime(df_last_songs['played_at'], format='%Y-%m-%d &H:%M:%S')\n",
    "\n",
    "# print info\n",
    "df_last_songs.info()"
   ]
  }
 ],
 "metadata": {
  "kernelspec": {
   "display_name": "base",
   "language": "python",
   "name": "python3"
  },
  "language_info": {
   "codemirror_mode": {
    "name": "ipython",
    "version": 3
   },
   "file_extension": ".py",
   "mimetype": "text/x-python",
   "name": "python",
   "nbconvert_exporter": "python",
   "pygments_lexer": "ipython3",
   "version": "3.10.9"
  },
  "orig_nbformat": 4
 },
 "nbformat": 4,
 "nbformat_minor": 2
}
